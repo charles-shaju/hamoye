{
 "cells": [
  {
   "cell_type": "code",
   "execution_count": 16,
   "id": "eefc4598",
   "metadata": {},
   "outputs": [
    {
     "name": "stdout",
     "output_type": "stream",
     "text": [
      "T6    65080.492074\n",
      "dtype: float64\n"
     ]
    }
   ],
   "source": [
    "import pandas as pd\n",
    "import numpy as np\n",
    "import seaborn as sns\n",
    "import matplotlib.pyplot as plt\n",
    "df = pd.read_csv('/home/charles/Downloads/hamoye/energydata_complete.csv')\n",
    "#rename columns\n",
    "\n",
    "#select a sample of the dataset\n",
    "from sklearn import linear_model, metrics\n",
    "\n",
    "X=df[['T2']]\n",
    "Y=df[['T6']]\n",
    "from sklearn.model_selection import train_test_split\n",
    "x_train, x_test, y_train, y_test = train_test_split(X,Y,test_size=0.25, random_state=42)\n",
    "linear_model = linear_model.LinearRegression()\n",
    "#fit the model to the training dataset\n",
    "linear_model.fit(x_train, y_train)\n",
    "#obtain predictions\n",
    "predicted_values = linear_model.predict(x_test)\n",
    "rss = np.sum(np.square(y_test - predicted_values))\n",
    "print(rss)\n",
    "\n"
   ]
  },
  {
   "cell_type": "code",
   "execution_count": 36,
   "id": "f6b8042c",
   "metadata": {},
   "outputs": [
    {
     "name": "stdout",
     "output_type": "stream",
     "text": [
      "Feature: 0, Score: 1.00000\n",
      "Feature: 1, Score: 0.00000\n",
      "Feature: 2, Score: -0.00000\n",
      "Feature: 3, Score: -0.00000\n",
      "Feature: 4, Score: 0.00000\n",
      "Feature: 5, Score: -0.00000\n",
      "Feature: 6, Score: -0.00000\n",
      "Feature: 7, Score: -0.00000\n",
      "Feature: 8, Score: 0.00000\n",
      "Feature: 9, Score: 0.00000\n",
      "Feature: 10, Score: -0.00000\n",
      "Feature: 11, Score: 0.00000\n",
      "Feature: 12, Score: -0.00000\n",
      "Feature: 13, Score: 0.00000\n",
      "Feature: 14, Score: -0.00000\n",
      "Feature: 15, Score: -0.00000\n",
      "Feature: 16, Score: 0.00000\n",
      "Feature: 17, Score: -0.00000\n",
      "Feature: 18, Score: 0.00000\n",
      "Feature: 19, Score: -0.00000\n",
      "Feature: 20, Score: 0.00000\n",
      "Feature: 21, Score: -0.00000\n",
      "Feature: 22, Score: 0.00000\n",
      "Feature: 23, Score: 0.00000\n",
      "Feature: 24, Score: 0.00000\n",
      "Feature: 25, Score: 0.00000\n",
      "Feature: 26, Score: 0.00000\n",
      "mea 0.0\n",
      "8.787353640906128e-26\n",
      "root 0.0\n",
      "r2 1.0\n"
     ]
    }
   ],
   "source": [
    "#Firstly, we normalise our dataset to a common scale using the min max scaler\n",
    "from sklearn.preprocessing import MinMaxScaler\n",
    "import pandas as pd\n",
    "df = pd.read_csv('/home/charles/Downloads/hamoye/energydata_complete.csv')\n",
    "#rename columns\n",
    "\n",
    "#select a sample of the dataset\n",
    "from sklearn import linear_model, metrics\n",
    "\n",
    "#rename columns\n",
    "\n",
    "df = df.rename(columns=column_names)\n",
    "scaler = MinMaxScaler()\n",
    "del df['date']\n",
    "normalised_df = pd.DataFrame(scaler.fit_transform(df), columns=df.columns)\n",
    "features_df = normalised_df.drop(columns=['lights'])\n",
    "heating_target = normalised_df['Appliances']\n",
    "#Now, we split our dataset into the training and testing dataset. Recall that we\n",
    "\n",
    "from sklearn.model_selection import train_test_split\n",
    "x_train, x_test, y_train, y_test = train_test_split(features_df, heating_target,\n",
    "test_size=0.3, random_state=42)\n",
    "linear_model = linear_model.LinearRegression()\n",
    "#fit the model to the training dataset\n",
    "linear_model.fit(x_train, y_train)\n",
    "importance = linear_model.coef_\n",
    "# summarize feature importance\n",
    "for i,v in enumerate(importance):\n",
    " print('Feature: %0d, Score: %.5f' % (i,v))\n",
    "#obtain predictions\n",
    "predicted_values = linear_model.predict(x_test)\n",
    "#MAE\n",
    "from sklearn.metrics import mean_absolute_error\n",
    "mae = mean_absolute_error(y_test, predicted_values)\n",
    "ans=round(mae, 2)\n",
    "print('mea', ans)\n",
    "\n",
    "import numpy as np\n",
    "rss = np.sum(np.square(y_test - predicted_values))\n",
    "print(rss) #prints 1.823\n",
    "\n",
    "from sklearn.metrics import mean_squared_error\n",
    "rmse = np.sqrt(mean_squared_error(y_test, predicted_values))\n",
    "print('root',round(rmse, 3)) #prints 0.089\n",
    "\n",
    "from sklearn.metrics import r2_score\n",
    "r2_score = r2_score(y_test, predicted_values)\n",
    "print('r2',round(r2_score, 3))\n",
    "\n",
    "\n"
   ]
  },
  {
   "cell_type": "code",
   "execution_count": null,
   "id": "22e9dd58",
   "metadata": {},
   "outputs": [],
   "source": []
  }
 ],
 "metadata": {
  "kernelspec": {
   "display_name": "Python 3 (ipykernel)",
   "language": "python",
   "name": "python3"
  },
  "language_info": {
   "codemirror_mode": {
    "name": "ipython",
    "version": 3
   },
   "file_extension": ".py",
   "mimetype": "text/x-python",
   "name": "python",
   "nbconvert_exporter": "python",
   "pygments_lexer": "ipython3",
   "version": "3.9.13"
  }
 },
 "nbformat": 4,
 "nbformat_minor": 5
}
